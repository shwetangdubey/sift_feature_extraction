{
 "cells": [
  {
   "cell_type": "code",
   "execution_count": 3,
   "id": "bb7fe316",
   "metadata": {},
   "outputs": [
    {
     "name": "stdout",
     "output_type": "stream",
     "text": [
      "Defaulting to user installation because normal site-packages is not writeable\n",
      "Requirement already satisfied: numpy in c:\\programdata\\anaconda3\\lib\\site-packages (1.21.5)\n",
      "Collecting opencv-python==3.4.13.47\n",
      "  Downloading opencv_python-3.4.13.47-cp39-cp39-win_amd64.whl (30.9 MB)\n",
      "     -------------------------------------- 30.9/30.9 MB 167.5 kB/s eta 0:00:00\n",
      "Collecting opencv-contrib-python==3.4.13.47\n",
      "  Downloading opencv_contrib_python-3.4.13.47-cp39-cp39-win_amd64.whl (36.4 MB)\n",
      "     -------------------------------------- 36.4/36.4 MB 163.5 kB/s eta 0:00:00\n",
      "Installing collected packages: opencv-python, opencv-contrib-python\n",
      "Successfully installed opencv-contrib-python-3.4.13.47 opencv-python-3.4.13.47\n",
      "Note: you may need to restart the kernel to use updated packages.\n"
     ]
    }
   ],
   "source": [
    "pip install numpy opencv-python==3.4.13.47 opencv-contrib-python==3.4.13.47"
   ]
  },
  {
   "cell_type": "code",
   "execution_count": 1,
   "id": "58bcd583",
   "metadata": {},
   "outputs": [
    {
     "name": "stdout",
     "output_type": "stream",
     "text": [
      " Volume in drive C is OS\n",
      " Volume Serial Number is 4839-38DC\n",
      "\n",
      " Directory of C:\\Users\\shwet\n",
      "\n",
      "17-02-2023  17:31    <DIR>          .\n",
      "10-02-2023  02:39    <DIR>          ..\n",
      "14-02-2023  03:38    <DIR>          .conda\n",
      "27-01-2023  17:23               188 .gitconfig\n",
      "17-02-2023  16:25    <DIR>          .ipynb_checkpoints\n",
      "14-02-2023  02:03    <DIR>          .ipython\n",
      "14-02-2023  03:15    <DIR>          .jupyter\n",
      "16-02-2023  03:49    <DIR>          .keras\n",
      "16-02-2023  03:53    <DIR>          .matplotlib\n",
      "20-01-2023  23:42    <DIR>          .ms-ad\n",
      "24-01-2023  18:00    <DIR>          .RapidMiner\n",
      "18-01-2023  17:27    <DIR>          .virtualenvs\n",
      "18-01-2023  17:22    <DIR>          .vscode\n",
      "25-01-2023  15:20    <DIR>          ansel\n",
      "18-01-2023  17:23    <DIR>          code\n",
      "10-02-2023  02:42    <DIR>          Contacts\n",
      "10-02-2023  02:42    <DIR>          Desktop\n",
      "10-02-2023  02:42    <DIR>          Documents\n",
      "17-02-2023  17:21    <DIR>          Downloads\n",
      "10-02-2023  02:42    <DIR>          Favorites\n",
      "10-02-2023  02:42    <DIR>          Links\n",
      "10-02-2023  02:42    <DIR>          Music\n",
      "17-02-2023  14:25    <DIR>          OneDrive\n",
      "10-02-2023  02:42    <DIR>          Pictures\n",
      "10-02-2023  02:42    <DIR>          Saved Games\n",
      "10-02-2023  02:42    <DIR>          Searches\n",
      "16-02-2023  03:57    <DIR>          tensorflow_datasets\n",
      "14-02-2023  02:17             2,566 Untitled.ipynb\n",
      "14-02-2023  03:33           160,363 Untitled1.ipynb\n",
      "16-02-2023  04:01            22,093 Untitled2.ipynb\n",
      "16-02-2023  20:49               589 Untitled3.ipynb\n",
      "17-02-2023  17:31             8,841 Untitled4.ipynb\n",
      "17-02-2023  14:19    <DIR>          Videos\n",
      "               6 File(s)        194,640 bytes\n",
      "              27 Dir(s)  228,097,757,184 bytes free\n"
     ]
    }
   ],
   "source": [
    "ls"
   ]
  },
  {
   "cell_type": "code",
   "execution_count": 1,
   "id": "118f66b3",
   "metadata": {},
   "outputs": [
    {
     "name": "stdout",
     "output_type": "stream",
     "text": [
      "C:\\Users\\shwet\\Downloads\n"
     ]
    }
   ],
   "source": [
    "cd Downloads/\n"
   ]
  },
  {
   "cell_type": "code",
   "execution_count": 2,
   "id": "5466ef31",
   "metadata": {},
   "outputs": [
    {
     "name": "stdout",
     "output_type": "stream",
     "text": [
      " Volume in drive C is OS\n",
      " Volume Serial Number is 4839-38DC\n",
      "\n",
      " Directory of C:\\Users\\shwet\\Downloads\n",
      "\n",
      "17-02-2023  17:21    <DIR>          .\n",
      "17-02-2023  17:33    <DIR>          ..\n",
      "16-02-2023  20:50    <DIR>          .ipynb_checkpoints\n",
      "31-01-2023  13:52    <DIR>          _temp_matlab_R2022b_win64\n",
      "09-02-2023  09:06         2,817,672 1-s2.0-S0925231221002344-main.pdf\n",
      "17-02-2023  17:21            23,320 44.jpg\n",
      "14-02-2023  01:43       651,399,256 Anaconda3-2022.10-Windows-x86_64.exe\n",
      "17-01-2023  21:40         4,021,320 AnyDesk.exe\n",
      "27-01-2023  20:38        14,145,718 BTechIT_5thSem_IIT2020003_004_051_056_057-20230127T150708Z-001.zip\n",
      "16-01-2023  20:26         1,427,176 ChromeSetup.exe\n",
      "14-02-2023  02:45     3,678,256,040 cuda_12.0.1_528.33_windows.exe\n",
      "23-01-2023  15:31            32,002 customer-churn-data.xlsx\n",
      "17-01-2023  13:45        11,921,856 FileZilla_3.62.2_win64_sponsored-setup.exe\n",
      "18-01-2023  16:55           394,240 gcapi.dll\n",
      "27-01-2023  16:47       127,169,824 GitHubDesktopSetup-x64.exe\n",
      "22-01-2023  14:33       289,212,808 KinectSDK-v2.0_1409-Setup.exe\n",
      "31-01-2023  13:51       238,613,624 matlab_R2022b_win64.exe\n",
      "27-01-2023  20:36         2,355,284 MIT2021075-20230127T150606Z-001.zip\n",
      "27-01-2023  20:36         4,636,216 MIT2021087_DepthEstimation-20230127T150602Z-001.zip\n",
      "17-02-2023  17:20           355,549 nyu_data-002.zip.crdownload\n",
      "21-01-2023  01:20         4,190,460 Pass_55551-For-LatestFileV2.rar\n",
      "17-02-2023  02:10         1,310,394 predicted_sample_images.png\n",
      "10-02-2023  02:07         7,757,616 psiphon3.exe\n",
      "19-01-2023  23:39         7,469,960 psiphon3.exe.orig\n",
      "18-01-2023  16:46        25,218,984 python-3.11.1-amd64.exe\n",
      "23-01-2023  15:31            45,812 raw-customer-churn-data.xlsx\n",
      "16-02-2023  21:46    <DIR>          results\n",
      "06-02-2023  12:05    <DIR>          RMC\n",
      "16-02-2023  20:50           736,332 sample-images.png\n",
      "17-02-2023  02:12         2,837,230 sat-class.ipynb\n",
      "17-01-2023  13:33        40,188,464 tsetup-x64.4.5.3.exe\n",
      "23-01-2023  15:32    <DIR>          tutorial1\n",
      "17-01-2023  13:16        44,283,624 vlc-3.0.18-win64.exe\n",
      "18-01-2023  17:18        93,076,952 VSCodeUserSetup-x64-1.74.3.exe\n",
      "18-01-2023  17:08         3,473,784 winrar-x64-611.exe\n",
      "              28 File(s)  5,257,371,517 bytes\n",
      "               7 Dir(s)  228,076,163,072 bytes free\n"
     ]
    }
   ],
   "source": [
    "ls"
   ]
  },
  {
   "cell_type": "code",
   "execution_count": 3,
   "id": "3bb03276",
   "metadata": {},
   "outputs": [],
   "source": [
    "import cv2\n",
    "\n",
    "img = cv2.imread(\"44.jpg\")"
   ]
  },
  {
   "cell_type": "code",
   "execution_count": 4,
   "id": "9c70531f",
   "metadata": {},
   "outputs": [],
   "source": [
    "gray = cv2.cvtColor(img, cv2.COLOR_BGR2GRAY)"
   ]
  },
  {
   "cell_type": "code",
   "execution_count": 5,
   "id": "ff1d9957",
   "metadata": {},
   "outputs": [],
   "source": [
    "#create shift feature extractor\n",
    "\n",
    "sift = cv2.xfeatures2d.SIFT_create()\n"
   ]
  },
  {
   "cell_type": "raw",
   "id": "682cc66f",
   "metadata": {},
   "source": [
    "To detect the keypoints and descriptors, we simply pass the image to detectAndCompute() method:\n"
   ]
  },
  {
   "cell_type": "code",
   "execution_count": 6,
   "id": "4851a47e",
   "metadata": {},
   "outputs": [],
   "source": [
    "#detect features from image\n",
    "\n",
    "keypoint, descriptors = sift.detectAndCompute(img, None)"
   ]
  },
  {
   "cell_type": "code",
   "execution_count": 8,
   "id": "2a95ca67",
   "metadata": {},
   "outputs": [
    {
     "data": {
      "text/plain": [
       "-1"
      ]
     },
     "execution_count": 8,
     "metadata": {},
     "output_type": "execute_result"
    }
   ],
   "source": [
    "#draw the detected key points \n",
    "sift_image = cv2.drawKeypoints(gray, keypoint, img)\n",
    "#show the image\n",
    "\n",
    "cv2.imshow(\"image\", sift_image)\n",
    "\n",
    "cv2.waitKey(0)\n"
   ]
  },
  {
   "cell_type": "code",
   "execution_count": 9,
   "id": "71c77b63",
   "metadata": {},
   "outputs": [],
   "source": [
    "img1 = img\n",
    "img2 = cv2.imread(\"41.jpg\")\n",
    "\n",
    "#convert to grayscale\n",
    "\n",
    "img1 = cv2.cvtColor(img1, cv2.COLOR_BGR2GRAY)\n",
    "img2 = cv2.cvtColor(img2, cv2.COLOR_BGR2GRAY)\n",
    "#create shit object\n",
    "sift = cv2.xfeatures2d.SIFT_create()\n",
    "\n",
    "#keypoint and Sift feature dethection in both images\n",
    "keypoints1, descriptors1 = sift.detectAndCompute(img1, None)\n",
    "keypoints2, descriptors2 = sift.detectAndCompute(img2, None)\n"
   ]
  },
  {
   "cell_type": "code",
   "execution_count": 10,
   "id": "6c1b2598",
   "metadata": {},
   "outputs": [],
   "source": [
    "#create feature matcher:\n",
    "\n",
    "bf = cv2.BFMatcher(cv2.NORM_L1, crossCheck = True)\n",
    "\n",
    "#match bescriptor of both images\n",
    "\n",
    "matches = bf.match(descriptors1, descriptors2)"
   ]
  },
  {
   "cell_type": "code",
   "execution_count": 16,
   "id": "e13a7ad3",
   "metadata": {},
   "outputs": [],
   "source": [
    "#sort matches by distance\n",
    "matches = sorted(matches, key = lambda x: x.distance)\n",
    "\n",
    "#draw first 50 matches\n",
    "\n",
    "matched_img = cv2.drawMatches(img1, keypoints1, img2, keypoints2, matches[:20],img2,  flags = 2)"
   ]
  },
  {
   "cell_type": "code",
   "execution_count": 17,
   "id": "b16fc8bd",
   "metadata": {},
   "outputs": [
    {
     "data": {
      "text/plain": [
       "-1"
      ]
     },
     "execution_count": 17,
     "metadata": {},
     "output_type": "execute_result"
    }
   ],
   "source": [
    "cv2.imshow(\"imagew\", matched_img)\n",
    "cv2.waitKey(0)"
   ]
  },
  {
   "cell_type": "code",
   "execution_count": null,
   "id": "32645d36",
   "metadata": {},
   "outputs": [],
   "source": []
  }
 ],
 "metadata": {
  "kernelspec": {
   "display_name": "Python 3 (ipykernel)",
   "language": "python",
   "name": "python3"
  },
  "language_info": {
   "codemirror_mode": {
    "name": "ipython",
    "version": 3
   },
   "file_extension": ".py",
   "mimetype": "text/x-python",
   "name": "python",
   "nbconvert_exporter": "python",
   "pygments_lexer": "ipython3",
   "version": "3.9.13"
  }
 },
 "nbformat": 4,
 "nbformat_minor": 5
}
